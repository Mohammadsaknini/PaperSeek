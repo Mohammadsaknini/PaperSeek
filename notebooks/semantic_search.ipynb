{
 "cells": [
  {
   "cell_type": "code",
   "execution_count": 34,
   "metadata": {},
   "outputs": [],
   "source": [
    "from notebooks.ablations.utils import select_core_pub\n",
    "from utils import DataReader, Query, HyResearch\n",
    "from tqdm.auto import tqdm\n",
    "from glob import glob\n",
    "import pandas as pd\n",
    "\n",
    "# Load data\n",
    "eval_df = pd.read_excel(\"data/eval_cps.xlsx\")\n",
    "query_df = pd.read_excel(\"data/slr_query_results.xlsx\")\n",
    "hy = HyResearch()\n",
    "\n",
    "# Define topic sets\n",
    "eval_topics = set(eval_df[\"topic\"].tolist()).difference(set(query_df[\"topic\"].tolist()))\n",
    "query_topics = set(query_df[\"topic\"].tolist())\n",
    "all_topics = sorted(eval_df[\"topic\"].unique())\n",
    "files = glob(\"ablation/hyde/**/*.parquet\")\n",
    "files = [i.replace(\"\\\\\", \"/\") for i in files]"
   ]
  },
  {
   "cell_type": "code",
   "execution_count": 35,
   "metadata": {},
   "outputs": [],
   "source": [
    "def run_name(topics, cp_type, hyde_n, synthetic_core=False):\n",
    "        # Create descriptive run identifier\n",
    "    description = cp_type + \"/\"\n",
    "    if topics == eval_topics:\n",
    "        description += \"Evaluation\"\n",
    "    elif topics == query_topics:\n",
    "        description += \"Query\"\n",
    "    elif topics == all_topics:\n",
    "        description += \"All\"\n",
    "    else:\n",
    "        description += \"Custom\"\n",
    "\n",
    "    description += f\"_HYDE{hyde_n}\"\n",
    "\n",
    "    if synthetic_core:\n",
    "        description += \"_SYNTHETIC_CORE\"\n",
    "\n",
    "    return description"
   ]
  },
  {
   "cell_type": "code",
   "execution_count": 36,
   "metadata": {},
   "outputs": [
    {
     "name": "stdout",
     "output_type": "stream",
     "text": [
      "Running: random/All_HYDE2\n"
     ]
    }
   ],
   "source": [
    "# Configuration parameters\n",
    "TOP_N = 10_000\n",
    "SELECTED_TOPICS = all_topics\n",
    "HYDE_N = 2\n",
    "SYNTHETIC_CORE = False\n",
    "CP_TYPE = \"random\"\n",
    "description = run_name(SELECTED_TOPICS, CP_TYPE, HYDE_N, SYNTHETIC_CORE)\n",
    "print(f\"Running: {description}\")"
   ]
  },
  {
   "cell_type": "code",
   "execution_count": 37,
   "metadata": {},
   "outputs": [],
   "source": [
    "def query_to_doc(topics):\n",
    "    results = {}\n",
    "    for topic in topics:\n",
    "        ids = query_df[(query_df[\"topic\"] == topic) & (query_df[\"is_core\"])][\n",
    "            \"id\"\n",
    "        ].to_list()\n",
    "        topic_df = eval_df[eval_df[\"topic\"] == topic]\n",
    "        n_cores = topic_df.loc[eval_df[\"id\"].isin(ids)][\"title\"].count().item()\n",
    "        actual = topic_df.shape[0]\n",
    "        results[topic] = {\"Query\": n_cores, \"Actual\": actual}\n",
    "    return results\n",
    "\n",
    "def doc_to_doc(topics, top_n=TOP_N, hyde_n=0, synthetic_core=False, cp_type=\"average\"):\n",
    "    if not synthetic_core:\n",
    "        core_pubs, texts, topics = select_core_pub(topics, type=cp_type)\n",
    "    else:\n",
    "        texts = []\n",
    "        for topic in topics:\n",
    "            rq = Query(topic=topic).format(rq_count=100)\n",
    "            texts.append(hy.generate_core_pub(rq, topic + \"Software Engineering\"))\n",
    "\n",
    "    reader = DataReader(batch_size=1)\n",
    "    results = {\"topic\": [], \"id\": [], \"score\": [], \"query\": [], \"text\": []}\n",
    "    queries = []\n",
    "\n",
    "    for text, topic in tqdm(\n",
    "        zip(texts, topics), desc=\"Hyde\", leave=False, total=len(topics)\n",
    "    ):\n",
    "        if hyde_n > 0:\n",
    "            supporting_texts = [text]\n",
    "            supporting_texts.extend(hy.generate_n_docs(text, topic, hyde_n))\n",
    "        else:\n",
    "            supporting_texts = text\n",
    "\n",
    "        queries.append(\n",
    "            Query(topic).format(rq_count=100, supporting_texts=supporting_texts)\n",
    "        )\n",
    "\n",
    "    hits = reader.fetch(queries, n_hits=top_n)\n",
    "    for i, hit in enumerate(hits):\n",
    "        ids = hit.ids\n",
    "        results[\"id\"].extend(ids)\n",
    "        results[\"topic\"].extend([topics[i]] * len(ids))\n",
    "        results[\"score\"].extend(hit.scores)\n",
    "        results[\"query\"].extend([queries[i]] * len(ids))\n",
    "        results[\"text\"].extend(hit.texts)  # We require the texts for the rerankers\n",
    "    return pd.DataFrame(results)\n",
    "\n",
    "def slr_query_results_count(topic):\n",
    "    \"\"\"If the topic has a query then return the number of results the query had.\"\"\"\n",
    "    if topic in query_df[\"topic\"].unique().tolist():\n",
    "        return min(query_df[query_df[\"topic\"] == topic].shape[0], TOP_N)\n",
    "    else:\n",
    "        return TOP_N"
   ]
  },
  {
   "cell_type": "code",
   "execution_count": 38,
   "metadata": {},
   "outputs": [
    {
     "data": {
      "application/vnd.jupyter.widget-view+json": {
       "model_id": "68ba9ff9826b44dc8c88d9a892396b76",
       "version_major": 2,
       "version_minor": 0
      },
      "text/plain": [
       "Hyde:   0%|          | 0/30 [00:00<?, ?it/s]"
      ]
     },
     "metadata": {},
     "output_type": "display_data"
    },
    {
     "data": {
      "application/vnd.jupyter.widget-view+json": {
       "model_id": "42c1f27bbd3342ba8f1cd9649510fc17",
       "version_major": 2,
       "version_minor": 0
      },
      "text/plain": [
       "Scanning batches:   0%|          | 0/53 [00:00<?, ?it/s]"
      ]
     },
     "metadata": {},
     "output_type": "display_data"
    }
   ],
   "source": [
    "query_results = query_to_doc(SELECTED_TOPICS)\n",
    "results = None\n",
    "\n",
    "for file in files:\n",
    "    if description in file:\n",
    "        results = pd.read_parquet(file)\n",
    "if results is None:\n",
    "    results = doc_to_doc(SELECTED_TOPICS, hyde_n=HYDE_N, synthetic_core=SYNTHETIC_CORE, cp_type=CP_TYPE)"
   ]
  },
  {
   "cell_type": "code",
   "execution_count": null,
   "metadata": {},
   "outputs": [],
   "source": [
    "topics_df = query_df[query_df[\"topic\"].isin(SELECTED_TOPICS)]\n",
    "items = {\n",
    "    \"Topic\": [],\n",
    "    \"Found\": [],\n",
    "    \"Query\": [],\n",
    "    \"Actual\": [],\n",
    "    \"Sample Size\": []\n",
    "}\n",
    "for topic in SELECTED_TOPICS:\n",
    "    top_n = slr_query_results_count(topic)\n",
    "    hit = results[results[\"topic\"] == topic]\n",
    "    hit = hit.sort_values(\"score\", ascending=False).head(top_n)\n",
    "    ids = hit[\"id\"].values\n",
    "    topic_df = eval_df[eval_df[\"topic\"] == topic]\n",
    "    n_cores = topic_df[eval_df[\"id\"].isin(ids)][\"title\"].count()\n",
    "    actual = topic_df.shape[0]\n",
    "    items[\"Topic\"].append(topic)\n",
    "    items[\"Found\"].append(n_cores)\n",
    "    items[\"Query\"].append(query_results[topic][\"Query\"])\n",
    "    items[\"Actual\"].append(actual)\n",
    "    items[\"Sample Size\"].append(top_n)"
   ]
  },
  {
   "cell_type": "code",
   "execution_count": null,
   "metadata": {},
   "outputs": [],
   "source": [
    "results_df = pd.DataFrame(items).sort_values(\"Sample Size\").reset_index(drop=True)\n",
    "\n",
    "print(\"Topics with a Query\".center(110))\n",
    "results_df[results_df[\"Query\"] != 0].reset_index(drop=True).style.highlight_max(\n",
    "    axis=1, subset=[\"Found\", \"Query\"], color=\"green\"\n",
    ")"
   ]
  },
  {
   "cell_type": "code",
   "execution_count": null,
   "metadata": {},
   "outputs": [],
   "source": [
    "print(\"Topics without a Query\".center(110))\n",
    "results_df[results_df[\"Query\"] == 0].drop(columns=[\"Query\", \"Sample Size\"]).reset_index(drop=True).style.highlight_max(\n",
    "    axis=1, subset=[\"Found\", \"Actual\"], color=\"green\"\n",
    ")"
   ]
  }
 ],
 "metadata": {
  "kernelspec": {
   "display_name": ".venv",
   "language": "python",
   "name": "python3"
  },
  "language_info": {
   "codemirror_mode": {
    "name": "ipython",
    "version": 3
   },
   "file_extension": ".py",
   "mimetype": "text/x-python",
   "name": "python",
   "nbconvert_exporter": "python",
   "pygments_lexer": "ipython3",
   "version": "3.12.8"
  }
 },
 "nbformat": 4,
 "nbformat_minor": 2
}
