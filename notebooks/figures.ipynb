{
 "cells": [
  {
   "cell_type": "code",
   "execution_count": 25,
   "id": "f5101482",
   "metadata": {},
   "outputs": [],
   "source": [
    "from utils import save_plot, read_data\n",
    "from textwrap import shorten\n",
    "import plotly.express as px\n",
    "from typing import Literal\n",
    "import pandas as pd"
   ]
  },
  {
   "cell_type": "code",
   "execution_count": 26,
   "id": "ff785ef8",
   "metadata": {},
   "outputs": [
    {
     "data": {
      "application/vnd.plotly.v1+json": {
       "config": {
        "plotlyServerURL": "https://plot.ly"
       },
       "data": [
        {
         "coloraxis": "coloraxis",
         "hovertemplate": "x: %{x}<br>Topic: %{y}<br>color: %{z}<extra></extra>",
         "name": "0",
         "texttemplate": "%{z:auto}",
         "type": "heatmap",
         "x": [
          "Qwen2",
          "Stella",
          "OpenAi-small",
          "MiniLm",
          "Linq",
          "Specter2Adhoc",
          "Specter2",
          "SciBert",
          "E5small"
         ],
         "xaxis": "x",
         "y": [
          "Software Process Line",
          "Data Stream Processing Latency",
          "Business Process Meta Models",
          "Multicore Performance Prediction",
          "Cloud Migration",
          "Software Fault Prediction Metrics",
          "Software Defect Prediction"
         ],
         "yaxis": "y",
         "z": [
          [
           0.86,
           0.74,
           0.74,
           0.66,
           0.57,
           0.49,
           0.4,
           0.11,
           0
          ],
          [
           0.63,
           0.59,
           0.59,
           0.5,
           0.47,
           0.19,
           0.18,
           0.07,
           0
          ],
          [
           0.59,
           0.68,
           0.41,
           0.59,
           0.36,
           0.27,
           0.23,
           0.23,
           0
          ],
          [
           0.48,
           0.42,
           0.33,
           0.36,
           0.33,
           0.42,
           0.33,
           0.09,
           0
          ],
          [
           0.95,
           0.95,
           0.76,
           0.67,
           0.81,
           0.67,
           0.48,
           0.05,
           0
          ],
          [
           0.85,
           0.73,
           0.54,
           0.65,
           0.71,
           0.19,
           0.19,
           0.1,
           0
          ],
          [
           0.46,
           0.44,
           0.21,
           0.23,
           0.19,
           0.1,
           0.1,
           0.08,
           0
          ]
         ]
        }
       ],
       "layout": {
        "coloraxis": {
         "colorscale": [
          [
           0,
           "rgb(103,0,31)"
          ],
          [
           0.1,
           "rgb(178,24,43)"
          ],
          [
           0.2,
           "rgb(214,96,77)"
          ],
          [
           0.3,
           "rgb(244,165,130)"
          ],
          [
           0.4,
           "rgb(253,219,199)"
          ],
          [
           0.5,
           "rgb(247,247,247)"
          ],
          [
           0.6,
           "rgb(209,229,240)"
          ],
          [
           0.7,
           "rgb(146,197,222)"
          ],
          [
           0.8,
           "rgb(67,147,195)"
          ],
          [
           0.9,
           "rgb(33,102,172)"
          ],
          [
           1,
           "rgb(5,48,97)"
          ]
         ]
        },
        "height": 800,
        "legend": {
         "font": {
          "size": 15
         }
        },
        "margin": {
         "l": 250,
         "t": 60
        },
        "template": {
         "data": {
          "pie": [
           {
            "automargin": true,
            "type": "pie"
           }
          ],
          "scatter": [
           {
            "line": {
             "width": 3
            },
            "marker": {
             "size": 9
            },
            "type": "scatter"
           }
          ],
          "scatter3d": [
           {
            "line": {
             "width": 3
            },
            "marker": {
             "size": 9
            },
            "type": "scatter3d"
           }
          ],
          "scattergeo": [
           {
            "line": {
             "width": 3
            },
            "marker": {
             "size": 9
            },
            "type": "scattergeo"
           }
          ],
          "scattergl": [
           {
            "line": {
             "width": 3
            },
            "marker": {
             "size": 9
            },
            "type": "scattergl"
           }
          ],
          "scatterpolar": [
           {
            "line": {
             "width": 3
            },
            "marker": {
             "size": 9
            },
            "type": "scatterpolar"
           }
          ],
          "scatterpolargl": [
           {
            "line": {
             "width": 3
            },
            "marker": {
             "size": 9
            },
            "type": "scatterpolargl"
           }
          ],
          "scatterternary": [
           {
            "line": {
             "width": 3
            },
            "marker": {
             "size": 9
            },
            "type": "scatterternary"
           }
          ],
          "table": [
           {
            "cells": {
             "height": 30
            },
            "header": {
             "height": 36
            },
            "type": "table"
           }
          ]
         },
         "layout": {
          "colorway": [
           "#179c7d",
           "#005b7f",
           "#a6bbc8",
           "#39c1cd",
           "#b2b235",
           "#f58220",
           "#008598"
          ],
          "font": {
           "size": 18
          },
          "xaxis": {
           "title": {
            "standoff": 15
           }
          },
          "yaxis": {
           "title": {
            "standoff": 15
           }
          }
         }
        },
        "title": {
         "text": "Models Comparative Experiment Recall@1k Result"
        },
        "width": 1000,
        "xaxis": {
         "anchor": "y",
         "constrain": "domain",
         "domain": [
          0,
          1
         ],
         "scaleanchor": "y",
         "tickfont": {
          "size": 15
         },
         "title": {
          "font": {
           "size": 20
          },
          "text": "Models"
         }
        },
        "yaxis": {
         "anchor": "x",
         "autorange": "reversed",
         "constrain": "domain",
         "domain": [
          0,
          1
         ],
         "tickfont": {
          "size": 15
         },
         "title": {
          "font": {
           "size": 20
          },
          "text": "Topic"
         }
        }
       }
      }
     },
     "metadata": {},
     "output_type": "display_data"
    }
   ],
   "source": [
    "def models_comparision_results(recall: Literal[\"10k\", \"1k\"], save: bool = False):\n",
    "    df = read_data(f\"models_comparision_recall{recall}\").set_index(\"Topic\")\n",
    "    fig = px.imshow(df, color_continuous_scale=\"RdBu\", text_auto=\"auto\")\n",
    "    layout = dict(\n",
    "        title_font_size=20,\n",
    "        xaxis_tickfont_size=15,\n",
    "        yaxis_tickfont_size=15,\n",
    "        xaxis_title_text=\"Models\",\n",
    "        yaxis_title_text=\"Topic\",\n",
    "        legend_font_size=15,\n",
    "        yaxis_title_font_size=20,\n",
    "        xaxis_title_font_size=20,\n",
    "        height=800,\n",
    "        width=1000,\n",
    "        title=f\"Models Comparative Experiment Recall@{recall} Result\",\n",
    "        margin=dict(l=250),\n",
    "    )\n",
    "    fig.update_layout(**layout)\n",
    "    if save:\n",
    "        save_plot(fig, f\"embedding-models-experiment-recall{recall}\", layout)\n",
    "\n",
    "    fig.show()\n",
    "models_comparision_results(\"1k\")"
   ]
  },
  {
   "cell_type": "code",
   "execution_count": null,
   "id": "759c9000",
   "metadata": {},
   "outputs": [],
   "source": [
    "def evaluation_results(\n",
    "    save: bool = False,\n",
    "    synthetic_core: bool = False,\n",
    "    limit_k: bool = False,\n",
    "    all_topics: bool = False,\n",
    "    baseline: bool = False,\n",
    "):\n",
    "    if baseline:\n",
    "        if limit_k:\n",
    "            df = read_data(\"baseline_results_by_k\")\n",
    "        else:\n",
    "            df = read_data(\"baseline_results_10k\")\n",
    "    elif synthetic_core:\n",
    "        if limit_k:\n",
    "            df = read_data(\"synthetic_core_results_by_k\")\n",
    "        else:\n",
    "            df = read_data(\"synthetic_core_results_10k\")\n",
    "    else:\n",
    "        if limit_k:\n",
    "            df = read_data(\"post_input_optimization_results_by_k\")\n",
    "        else:\n",
    "            df = read_data(\"post_input_optimization_results_10k\")\n",
    "        \n",
    "    if not all_topics:\n",
    "        df = df[df[\"slr_query_results\"] != 0].dropna()\n",
    "    df[\"Topic\"] = df[\"Topic\"].apply(lambda x: shorten(x, width=30, placeholder=\"...\"))\n",
    "    synth_topics = [\n",
    "        \"Pharmacokinetics and...\",\n",
    "        \"The rodent object-in-...\",\n",
    "        \"Specialized psychotherapies...\",\n",
    "        \"Coronary heart disease,...\",\n",
    "        \"Long-term Outcomes of...\",\n",
    "        \"Patients Retransitioning...\",\n",
    "        \"The methodological rigour...\",\n",
    "    ]\n",
    "    df[\"is_synthetic\"] = df[\"Topic\"].apply(\n",
    "        lambda x: 1 if x in synth_topics else 0\n",
    "    )  # 1 for synthetic, 0 for real\n",
    "    df = (\n",
    "        df.sort_values([\"is_synthetic\", \"Sample Size\"], ascending=[True, True])\n",
    "        .rename(\n",
    "            {\n",
    "                \"paperseek_results\": \"PaperSeek\",\n",
    "                \"Sample Size\": \"K\",\n",
    "                \"slr_query_results\": \"SLR Query\",\n",
    "            },\n",
    "            axis=1,\n",
    "        )\n",
    "        .drop([\"is_synthetic\"], axis=1)\n",
    "    )\n",
    "    df[[\"PaperSeek\", \"SLR Query\"]] = df[[\"PaperSeek\", \"SLR Query\"]] * 100\n",
    "    avg_row = df.mean(numeric_only=True).to_frame().T\n",
    "    df = pd.concat([df, avg_row], ignore_index=True)\n",
    "    df.at[df.index[-1], \"Topic\"] = \"Average\"\n",
    "    if all_topics:\n",
    "        df.fillna(0, inplace=True)\n",
    "        df[\"SLR Query\"] = df[\"SLR Query\"].replace(0, -1)\n",
    "    df[[\"PaperSeek\", \"SLR Query\", \"K\"]] = df[[\"PaperSeek\", \"SLR Query\", \"K\"]].round().astype(int)\n",
    "    display(\n",
    "        df.reset_index(drop=True)\n",
    "        .style.highlight_max(axis=1, subset=[\"PaperSeek\", \"SLR Query\"], color=\"green\")\n",
    "    )\n",
    "    clms_to_remove = []\n",
    "\n",
    "    if all_topics:\n",
    "        clms_to_remove.append(\"SLR Query\")\n",
    "    if not limit_k:\n",
    "        clms_to_remove.append(\"K\")\n",
    "\n",
    "    if clms_to_remove:\n",
    "        df = df.drop(columns=clms_to_remove)\n",
    "\n",
    "    if save:\n",
    "        df.to_latex(\n",
    "            \"test.tex\",\n",
    "            index=False,\n",
    "        )"
   ]
  },
  {
   "cell_type": "code",
   "execution_count": 65,
   "id": "773214e6",
   "metadata": {},
   "outputs": [
    {
     "data": {
      "text/html": [
       "<style type=\"text/css\">\n",
       "#T_f489a_row0_col1, #T_f489a_row1_col1, #T_f489a_row2_col2, #T_f489a_row3_col1, #T_f489a_row4_col1, #T_f489a_row5_col1, #T_f489a_row6_col1, #T_f489a_row7_col1, #T_f489a_row8_col1, #T_f489a_row9_col1, #T_f489a_row10_col1, #T_f489a_row11_col1, #T_f489a_row11_col2, #T_f489a_row12_col1, #T_f489a_row13_col1, #T_f489a_row14_col1, #T_f489a_row15_col1, #T_f489a_row16_col1, #T_f489a_row17_col1, #T_f489a_row18_col1, #T_f489a_row19_col1, #T_f489a_row20_col1, #T_f489a_row21_col1, #T_f489a_row22_col1, #T_f489a_row23_col1, #T_f489a_row24_col2, #T_f489a_row25_col1, #T_f489a_row26_col1, #T_f489a_row27_col1, #T_f489a_row28_col1, #T_f489a_row28_col2, #T_f489a_row29_col2, #T_f489a_row30_col1 {\n",
       "  background-color: green;\n",
       "}\n",
       "</style>\n",
       "<table id=\"T_f489a\">\n",
       "  <thead>\n",
       "    <tr>\n",
       "      <th class=\"blank level0\" >&nbsp;</th>\n",
       "      <th id=\"T_f489a_level0_col0\" class=\"col_heading level0 col0\" >Topic</th>\n",
       "      <th id=\"T_f489a_level0_col1\" class=\"col_heading level0 col1\" >PaperSeek</th>\n",
       "      <th id=\"T_f489a_level0_col2\" class=\"col_heading level0 col2\" >SLR Query</th>\n",
       "      <th id=\"T_f489a_level0_col3\" class=\"col_heading level0 col3\" >K</th>\n",
       "    </tr>\n",
       "  </thead>\n",
       "  <tbody>\n",
       "    <tr>\n",
       "      <th id=\"T_f489a_level0_row0\" class=\"row_heading level0 row0\" >0</th>\n",
       "      <td id=\"T_f489a_row0_col0\" class=\"data row0 col0\" >Software Process Line</td>\n",
       "      <td id=\"T_f489a_row0_col1\" class=\"data row0 col1\" >100</td>\n",
       "      <td id=\"T_f489a_row0_col2\" class=\"data row0 col2\" >42</td>\n",
       "      <td id=\"T_f489a_row0_col3\" class=\"data row0 col3\" >167</td>\n",
       "    </tr>\n",
       "    <tr>\n",
       "      <th id=\"T_f489a_level0_row1\" class=\"row_heading level0 row1\" >1</th>\n",
       "      <td id=\"T_f489a_row1_col0\" class=\"data row1 col0\" >Cerebral Small Vessel...</td>\n",
       "      <td id=\"T_f489a_row1_col1\" class=\"data row1 col1\" >100</td>\n",
       "      <td id=\"T_f489a_row1_col2\" class=\"data row1 col2\" >44</td>\n",
       "      <td id=\"T_f489a_row1_col3\" class=\"data row1 col3\" >982</td>\n",
       "    </tr>\n",
       "    <tr>\n",
       "      <th id=\"T_f489a_level0_row2\" class=\"row_heading level0 row2\" >2</th>\n",
       "      <td id=\"T_f489a_row2_col0\" class=\"data row2 col0\" >Business Process Meta Models</td>\n",
       "      <td id=\"T_f489a_row2_col1\" class=\"data row2 col1\" >70</td>\n",
       "      <td id=\"T_f489a_row2_col2\" class=\"data row2 col2\" >90</td>\n",
       "      <td id=\"T_f489a_row2_col3\" class=\"data row2 col3\" >1598</td>\n",
       "    </tr>\n",
       "    <tr>\n",
       "      <th id=\"T_f489a_level0_row3\" class=\"row_heading level0 row3\" >3</th>\n",
       "      <td id=\"T_f489a_row3_col0\" class=\"data row3 col0\" >Data Stream Processing Latency</td>\n",
       "      <td id=\"T_f489a_row3_col1\" class=\"data row3 col1\" >68</td>\n",
       "      <td id=\"T_f489a_row3_col2\" class=\"data row3 col2\" >34</td>\n",
       "      <td id=\"T_f489a_row3_col3\" class=\"data row3 col3\" >1907</td>\n",
       "    </tr>\n",
       "    <tr>\n",
       "      <th id=\"T_f489a_level0_row4\" class=\"row_heading level0 row4\" >4</th>\n",
       "      <td id=\"T_f489a_row4_col0\" class=\"data row4 col0\" >Bayesian PTSD-Trajectory...</td>\n",
       "      <td id=\"T_f489a_row4_col1\" class=\"data row4 col1\" >37</td>\n",
       "      <td id=\"T_f489a_row4_col2\" class=\"data row4 col2\" >-1</td>\n",
       "      <td id=\"T_f489a_row4_col3\" class=\"data row4 col3\" >6395</td>\n",
       "    </tr>\n",
       "    <tr>\n",
       "      <th id=\"T_f489a_level0_row5\" class=\"row_heading level0 row5\" >5</th>\n",
       "      <td id=\"T_f489a_row5_col0\" class=\"data row5 col0\" >Cloud Migration</td>\n",
       "      <td id=\"T_f489a_row5_col1\" class=\"data row5 col1\" >100</td>\n",
       "      <td id=\"T_f489a_row5_col2\" class=\"data row5 col2\" >32</td>\n",
       "      <td id=\"T_f489a_row5_col3\" class=\"data row5 col3\" >7909</td>\n",
       "    </tr>\n",
       "    <tr>\n",
       "      <th id=\"T_f489a_level0_row6\" class=\"row_heading level0 row6\" >6</th>\n",
       "      <td id=\"T_f489a_row6_col0\" class=\"data row6 col0\" >Bayesian Versus Frequentist...</td>\n",
       "      <td id=\"T_f489a_row6_col1\" class=\"data row6 col1\" >96</td>\n",
       "      <td id=\"T_f489a_row6_col2\" class=\"data row6 col2\" >-1</td>\n",
       "      <td id=\"T_f489a_row6_col3\" class=\"data row6 col3\" >10000</td>\n",
       "    </tr>\n",
       "    <tr>\n",
       "      <th id=\"T_f489a_level0_row7\" class=\"row_heading level0 row7\" >7</th>\n",
       "      <td id=\"T_f489a_row7_col0\" class=\"data row7 col0\" >Comparative Efficacy and...</td>\n",
       "      <td id=\"T_f489a_row7_col1\" class=\"data row7 col1\" >75</td>\n",
       "      <td id=\"T_f489a_row7_col2\" class=\"data row7 col2\" >-1</td>\n",
       "      <td id=\"T_f489a_row7_col3\" class=\"data row7 col3\" >10000</td>\n",
       "    </tr>\n",
       "    <tr>\n",
       "      <th id=\"T_f489a_level0_row8\" class=\"row_heading level0 row8\" >8</th>\n",
       "      <td id=\"T_f489a_row8_col0\" class=\"data row8 col0\" >Comparing Experimental...</td>\n",
       "      <td id=\"T_f489a_row8_col1\" class=\"data row8 col1\" >53</td>\n",
       "      <td id=\"T_f489a_row8_col2\" class=\"data row8 col2\" >9</td>\n",
       "      <td id=\"T_f489a_row8_col3\" class=\"data row8 col3\" >10000</td>\n",
       "    </tr>\n",
       "    <tr>\n",
       "      <th id=\"T_f489a_level0_row9\" class=\"row_heading level0 row9\" >9</th>\n",
       "      <td id=\"T_f489a_row9_col0\" class=\"data row9 col0\" >Cross-sectional relation of...</td>\n",
       "      <td id=\"T_f489a_row9_col1\" class=\"data row9 col1\" >88</td>\n",
       "      <td id=\"T_f489a_row9_col2\" class=\"data row9 col2\" >-1</td>\n",
       "      <td id=\"T_f489a_row9_col3\" class=\"data row9 col3\" >10000</td>\n",
       "    </tr>\n",
       "    <tr>\n",
       "      <th id=\"T_f489a_level0_row10\" class=\"row_heading level0 row10\" >10</th>\n",
       "      <td id=\"T_f489a_row10_col0\" class=\"data row10 col0\" >Early-Life Exposure to...</td>\n",
       "      <td id=\"T_f489a_row10_col1\" class=\"data row10 col1\" >85</td>\n",
       "      <td id=\"T_f489a_row10_col2\" class=\"data row10 col2\" >-1</td>\n",
       "      <td id=\"T_f489a_row10_col3\" class=\"data row10 col3\" >10000</td>\n",
       "    </tr>\n",
       "    <tr>\n",
       "      <th id=\"T_f489a_level0_row11\" class=\"row_heading level0 row11\" >11</th>\n",
       "      <td id=\"T_f489a_row11_col0\" class=\"data row11 col0\" >Effectiveness of Common...</td>\n",
       "      <td id=\"T_f489a_row11_col1\" class=\"data row11 col1\" >100</td>\n",
       "      <td id=\"T_f489a_row11_col2\" class=\"data row11 col2\" >100</td>\n",
       "      <td id=\"T_f489a_row11_col3\" class=\"data row11 col3\" >10000</td>\n",
       "    </tr>\n",
       "    <tr>\n",
       "      <th id=\"T_f489a_level0_row12\" class=\"row_heading level0 row12\" >12</th>\n",
       "      <td id=\"T_f489a_row12_col0\" class=\"data row12 col0\" >Efficacy and Safety of...</td>\n",
       "      <td id=\"T_f489a_row12_col1\" class=\"data row12 col1\" >22</td>\n",
       "      <td id=\"T_f489a_row12_col2\" class=\"data row12 col2\" >-1</td>\n",
       "      <td id=\"T_f489a_row12_col3\" class=\"data row12 col3\" >10000</td>\n",
       "    </tr>\n",
       "    <tr>\n",
       "      <th id=\"T_f489a_level0_row13\" class=\"row_heading level0 row13\" >13</th>\n",
       "      <td id=\"T_f489a_row13_col0\" class=\"data row13 col0\" >Fault Prediction...</td>\n",
       "      <td id=\"T_f489a_row13_col1\" class=\"data row13 col1\" >95</td>\n",
       "      <td id=\"T_f489a_row13_col2\" class=\"data row13 col2\" >-1</td>\n",
       "      <td id=\"T_f489a_row13_col3\" class=\"data row13 col3\" >10000</td>\n",
       "    </tr>\n",
       "    <tr>\n",
       "      <th id=\"T_f489a_level0_row14\" class=\"row_heading level0 row14\" >14</th>\n",
       "      <td id=\"T_f489a_row14_col0\" class=\"data row14 col0\" >Mesenchymal Stem Cell...</td>\n",
       "      <td id=\"T_f489a_row14_col1\" class=\"data row14 col1\" >33</td>\n",
       "      <td id=\"T_f489a_row14_col2\" class=\"data row14 col2\" >-1</td>\n",
       "      <td id=\"T_f489a_row14_col3\" class=\"data row14 col3\" >10000</td>\n",
       "    </tr>\n",
       "    <tr>\n",
       "      <th id=\"T_f489a_level0_row15\" class=\"row_heading level0 row15\" >15</th>\n",
       "      <td id=\"T_f489a_row15_col0\" class=\"data row15 col0\" >Multicore Performance...</td>\n",
       "      <td id=\"T_f489a_row15_col1\" class=\"data row15 col1\" >50</td>\n",
       "      <td id=\"T_f489a_row15_col2\" class=\"data row15 col2\" >-1</td>\n",
       "      <td id=\"T_f489a_row15_col3\" class=\"data row15 col3\" >10000</td>\n",
       "    </tr>\n",
       "    <tr>\n",
       "      <th id=\"T_f489a_level0_row16\" class=\"row_heading level0 row16\" >16</th>\n",
       "      <td id=\"T_f489a_row16_col0\" class=\"data row16 col0\" >Poor nutritional condition...</td>\n",
       "      <td id=\"T_f489a_row16_col1\" class=\"data row16 col1\" >8</td>\n",
       "      <td id=\"T_f489a_row16_col2\" class=\"data row16 col2\" >-1</td>\n",
       "      <td id=\"T_f489a_row16_col3\" class=\"data row16 col3\" >10000</td>\n",
       "    </tr>\n",
       "    <tr>\n",
       "      <th id=\"T_f489a_level0_row17\" class=\"row_heading level0 row17\" >17</th>\n",
       "      <td id=\"T_f489a_row17_col0\" class=\"data row17 col0\" >Postmenopausal Hormone...</td>\n",
       "      <td id=\"T_f489a_row17_col1\" class=\"data row17 col1\" >62</td>\n",
       "      <td id=\"T_f489a_row17_col2\" class=\"data row17 col2\" >-1</td>\n",
       "      <td id=\"T_f489a_row17_col3\" class=\"data row17 col3\" >10000</td>\n",
       "    </tr>\n",
       "    <tr>\n",
       "      <th id=\"T_f489a_level0_row18\" class=\"row_heading level0 row18\" >18</th>\n",
       "      <td id=\"T_f489a_row18_col0\" class=\"data row18 col0\" >Psychological Theories of...</td>\n",
       "      <td id=\"T_f489a_row18_col1\" class=\"data row18 col1\" >97</td>\n",
       "      <td id=\"T_f489a_row18_col2\" class=\"data row18 col2\" >-1</td>\n",
       "      <td id=\"T_f489a_row18_col3\" class=\"data row18 col3\" >10000</td>\n",
       "    </tr>\n",
       "    <tr>\n",
       "      <th id=\"T_f489a_level0_row19\" class=\"row_heading level0 row19\" >19</th>\n",
       "      <td id=\"T_f489a_row19_col0\" class=\"data row19 col0\" >Sleep and Microdialysis,...</td>\n",
       "      <td id=\"T_f489a_row19_col1\" class=\"data row19 col1\" >100</td>\n",
       "      <td id=\"T_f489a_row19_col2\" class=\"data row19 col2\" >-1</td>\n",
       "      <td id=\"T_f489a_row19_col3\" class=\"data row19 col3\" >10000</td>\n",
       "    </tr>\n",
       "    <tr>\n",
       "      <th id=\"T_f489a_level0_row20\" class=\"row_heading level0 row20\" >20</th>\n",
       "      <td id=\"T_f489a_row20_col0\" class=\"data row20 col0\" >Software Defect Prediction</td>\n",
       "      <td id=\"T_f489a_row20_col1\" class=\"data row20 col1\" >83</td>\n",
       "      <td id=\"T_f489a_row20_col2\" class=\"data row20 col2\" >67</td>\n",
       "      <td id=\"T_f489a_row20_col3\" class=\"data row20 col3\" >10000</td>\n",
       "    </tr>\n",
       "    <tr>\n",
       "      <th id=\"T_f489a_level0_row21\" class=\"row_heading level0 row21\" >21</th>\n",
       "      <td id=\"T_f489a_row21_col0\" class=\"data row21 col0\" >Software Fault Prediction...</td>\n",
       "      <td id=\"T_f489a_row21_col1\" class=\"data row21 col1\" >96</td>\n",
       "      <td id=\"T_f489a_row21_col2\" class=\"data row21 col2\" >77</td>\n",
       "      <td id=\"T_f489a_row21_col3\" class=\"data row21 col3\" >10000</td>\n",
       "    </tr>\n",
       "    <tr>\n",
       "      <th id=\"T_f489a_level0_row22\" class=\"row_heading level0 row22\" >22</th>\n",
       "      <td id=\"T_f489a_row22_col0\" class=\"data row22 col0\" >The Role Older Adults with...</td>\n",
       "      <td id=\"T_f489a_row22_col1\" class=\"data row22 col1\" >100</td>\n",
       "      <td id=\"T_f489a_row22_col2\" class=\"data row22 col2\" >-1</td>\n",
       "      <td id=\"T_f489a_row22_col3\" class=\"data row22 col3\" >10000</td>\n",
       "    </tr>\n",
       "    <tr>\n",
       "      <th id=\"T_f489a_level0_row23\" class=\"row_heading level0 row23\" >23</th>\n",
       "      <td id=\"T_f489a_row23_col0\" class=\"data row23 col0\" >Pharmacokinetics and...</td>\n",
       "      <td id=\"T_f489a_row23_col1\" class=\"data row23 col1\" >100</td>\n",
       "      <td id=\"T_f489a_row23_col2\" class=\"data row23 col2\" >67</td>\n",
       "      <td id=\"T_f489a_row23_col3\" class=\"data row23 col3\" >248</td>\n",
       "    </tr>\n",
       "    <tr>\n",
       "      <th id=\"T_f489a_level0_row24\" class=\"row_heading level0 row24\" >24</th>\n",
       "      <td id=\"T_f489a_row24_col0\" class=\"data row24 col0\" >The rodent object-in-...</td>\n",
       "      <td id=\"T_f489a_row24_col1\" class=\"data row24 col1\" >68</td>\n",
       "      <td id=\"T_f489a_row24_col2\" class=\"data row24 col2\" >92</td>\n",
       "      <td id=\"T_f489a_row24_col3\" class=\"data row24 col3\" >480</td>\n",
       "    </tr>\n",
       "    <tr>\n",
       "      <th id=\"T_f489a_level0_row25\" class=\"row_heading level0 row25\" >25</th>\n",
       "      <td id=\"T_f489a_row25_col0\" class=\"data row25 col0\" >Specialized psychotherapies...</td>\n",
       "      <td id=\"T_f489a_row25_col1\" class=\"data row25 col1\" >100</td>\n",
       "      <td id=\"T_f489a_row25_col2\" class=\"data row25 col2\" >79</td>\n",
       "      <td id=\"T_f489a_row25_col3\" class=\"data row25 col3\" >2831</td>\n",
       "    </tr>\n",
       "    <tr>\n",
       "      <th id=\"T_f489a_level0_row26\" class=\"row_heading level0 row26\" >26</th>\n",
       "      <td id=\"T_f489a_row26_col0\" class=\"data row26 col0\" >Coronary heart disease,...</td>\n",
       "      <td id=\"T_f489a_row26_col1\" class=\"data row26 col1\" >94</td>\n",
       "      <td id=\"T_f489a_row26_col2\" class=\"data row26 col2\" >75</td>\n",
       "      <td id=\"T_f489a_row26_col3\" class=\"data row26 col3\" >5435</td>\n",
       "    </tr>\n",
       "    <tr>\n",
       "      <th id=\"T_f489a_level0_row27\" class=\"row_heading level0 row27\" >27</th>\n",
       "      <td id=\"T_f489a_row27_col0\" class=\"data row27 col0\" >Long-term Outcomes of...</td>\n",
       "      <td id=\"T_f489a_row27_col1\" class=\"data row27 col1\" >77</td>\n",
       "      <td id=\"T_f489a_row27_col2\" class=\"data row27 col2\" >42</td>\n",
       "      <td id=\"T_f489a_row27_col3\" class=\"data row27 col3\" >10000</td>\n",
       "    </tr>\n",
       "    <tr>\n",
       "      <th id=\"T_f489a_level0_row28\" class=\"row_heading level0 row28\" >28</th>\n",
       "      <td id=\"T_f489a_row28_col0\" class=\"data row28 col0\" >Patients Retransitioning...</td>\n",
       "      <td id=\"T_f489a_row28_col1\" class=\"data row28 col1\" >100</td>\n",
       "      <td id=\"T_f489a_row28_col2\" class=\"data row28 col2\" >100</td>\n",
       "      <td id=\"T_f489a_row28_col3\" class=\"data row28 col3\" >10000</td>\n",
       "    </tr>\n",
       "    <tr>\n",
       "      <th id=\"T_f489a_level0_row29\" class=\"row_heading level0 row29\" >29</th>\n",
       "      <td id=\"T_f489a_row29_col0\" class=\"data row29 col0\" >The methodological rigour...</td>\n",
       "      <td id=\"T_f489a_row29_col1\" class=\"data row29 col1\" >0</td>\n",
       "      <td id=\"T_f489a_row29_col2\" class=\"data row29 col2\" >75</td>\n",
       "      <td id=\"T_f489a_row29_col3\" class=\"data row29 col3\" >10000</td>\n",
       "    </tr>\n",
       "    <tr>\n",
       "      <th id=\"T_f489a_level0_row30\" class=\"row_heading level0 row30\" >30</th>\n",
       "      <td id=\"T_f489a_row30_col0\" class=\"data row30 col0\" >Average</td>\n",
       "      <td id=\"T_f489a_row30_col1\" class=\"data row30 col1\" >75</td>\n",
       "      <td id=\"T_f489a_row30_col2\" class=\"data row30 col2\" >60</td>\n",
       "      <td id=\"T_f489a_row30_col3\" class=\"data row30 col3\" >7598</td>\n",
       "    </tr>\n",
       "  </tbody>\n",
       "</table>\n"
      ],
      "text/plain": [
       "<pandas.io.formats.style.Styler at 0x22eb9afdfa0>"
      ]
     },
     "metadata": {},
     "output_type": "display_data"
    }
   ],
   "source": [
    "evaluation_results(synthetic_core=True, all_topics=True, limit_k=False) # Only queries and limited to k"
   ]
  },
  {
   "cell_type": "code",
   "execution_count": null,
   "id": "8bef5784",
   "metadata": {},
   "outputs": [],
   "source": [
    "def computional_hours(save: bool = False):\n",
    "    # TODO: Add Qdrant Migration and Active Learning Stimulation\n",
    "    df = pd.DataFrame(\n",
    "        {\n",
    "            \"Task\": [\n",
    "                \"OpenAlex Encoding\",\n",
    "                \"Embedding Models Comparative Analysis\",\n",
    "                \"Query Structure Ablation\",\n",
    "                \"CPs Effect Ablation\",\n",
    "                \"SLRs Evaluation\",\n",
    "                \"Reranking Ablation\",\n",
    "                \"Active Learning Simulation\",\n",
    "            ],\n",
    "            \"Time\": [221, 40, 1.5, 12.8, 2.6, 25, 1],\n",
    "            \"Type\": [\"GPU\", \"GPU\", \"IO\", \"IO\", \"IO\", \"GPU\", \"IO\"],\n",
    "        }\n",
    "    )\n",
    "\n",
    "    fig = px.bar(\n",
    "        df,\n",
    "        x=\"Task\",\n",
    "        y=\"Time\",\n",
    "        color=\"Type\",\n",
    "        title=\"Computional Hours\",\n",
    "        text=\"Time\",\n",
    "    )\n",
    "    fig.update_traces(texttemplate=\"%{text:.2s}\", textposition=\"outside\")\n",
    "    layout = dict(\n",
    "        title_font_size=20,\n",
    "        xaxis_tickfont_size=15,\n",
    "        yaxis_tickfont_size=15,\n",
    "        xaxis_title_text=\"Task\",\n",
    "        yaxis_title_text=\"Time (Hours)\",\n",
    "        legend_title_text=\"Resource\",\n",
    "        legend_font_size=15,\n",
    "        yaxis_title_font_size=20,\n",
    "        xaxis_title_font_size=20,\n",
    "        height=800,\n",
    "        width=1000,\n",
    "        title=\"Computional Hours\",\n",
    "        margin=dict(b=250),\n",
    "        xaxis=dict(\n",
    "            categoryorder=\"total descending\",\n",
    "        ),\n",
    "    )\n",
    "    fig.update_layout(**layout)\n",
    "    if save:\n",
    "        save_plot(fig, \"computional_hours\", layout)\n",
    "    fig.show()\n",
    "    \n",
    "computional_hours()"
   ]
  },
  {
   "cell_type": "code",
   "execution_count": null,
   "id": "fd673159",
   "metadata": {},
   "outputs": [],
   "source": [
    "def cps_performance_distribution(save: bool = False):\n",
    "    df = read_data(\"cp_performance_distribution\")\n",
    "    fig = px.box(df, x=\"topic\", y=\"recall\", points=\"all\",\n",
    "                 hover_data=\"core_id\")\n",
    "    layout = dict(\n",
    "        title_font_size=20,\n",
    "        xaxis_tickfont_size=15,\n",
    "        yaxis_tickfont_size=15,\n",
    "        xaxis_title_text=\"Topic\",\n",
    "        yaxis_title_text=\"Recall\",\n",
    "        legend_font_size=15,\n",
    "        yaxis_title_font_size=20,\n",
    "        xaxis_title_font_size=20,\n",
    "        height=600,\n",
    "        width=1250,\n",
    "        xaxis_tickangle=-45,\n",
    "        title=\"Recall Distribution by CP\",\n",
    "        margin=dict(b=250, l=150),\n",
    "    )\n",
    "    fig.update_layout(**layout)\n",
    "    fig.update_traces(marker=dict(size=5, line=dict(width=0.2, color=\"DarkSlateGrey\")))\n",
    "\n",
    "    if save:\n",
    "        save_plot(fig, \"cps_performance_distribution\", layout)\n",
    "    fig.show()\n",
    "\n",
    "cps_performance_distribution(True)"
   ]
  },
  {
   "cell_type": "code",
   "execution_count": null,
   "id": "556b53bd",
   "metadata": {},
   "outputs": [],
   "source": [
    "def recall_over_topn(save: bool = False):\n",
    "    df = read_data(\"recall_change_over_topn\")\n",
    "    fig = px.line(\n",
    "        df,\n",
    "        x=\"Top N\",\n",
    "        y=\"Recall\",\n",
    "        color=\"CP Type\",\n",
    "    )\n",
    "    layout = dict(\n",
    "        title_font_size=20,\n",
    "        xaxis_tickfont_size=15,\n",
    "        yaxis_tickfont_size=15,\n",
    "        xaxis_title_text=\"K\",\n",
    "        yaxis_title_text=\"Recall\",\n",
    "        legend_title_text=\"CP Type\",\n",
    "        legend_font_size=15,\n",
    "        yaxis_title_font_size=20,\n",
    "        xaxis_title_font_size=20,\n",
    "        xaxis=dict(\n",
    "            tickvals=[i for i in range(0, 10001, 1000)],\n",
    "        ),\n",
    "        \n",
    "        title=\"Recall@K for Different CP Types\",\n",
    "    )\n",
    "    fig.update_layout(**layout)\n",
    "    if save:\n",
    "        save_plot(fig, \"recall_over_topn\", layout)\n",
    "    fig.show()\n",
    "recall_over_topn()"
   ]
  },
  {
   "cell_type": "code",
   "execution_count": null,
   "id": "3d8746ec",
   "metadata": {},
   "outputs": [],
   "source": [
    "def active_learning(save: bool = False):\n",
    "    df = read_data(\"active_learning\").rename(\n",
    "        columns={\n",
    "            \"Multilayer Perceptron\": r\"$\\text{Neural Network}$\",\n",
    "            \"Percent Reviewed\": \"K\",\n",
    "            \"Baseline\": r\"$\\text{PaperSeek}_o$\",\n",
    "            \"Avg. Vector\": r\"$\\text{Average Vector}$\",\n",
    "            \"Asreview\": r\"$\\text{ASReview}$\",\n",
    "            \"SVM\": r\"$\\text{SVM}$\",\n",
    "        }\n",
    "    )\n",
    "    df[\"K\"] = df[\"K\"] * 10000\n",
    "    fig = px.line(\n",
    "        df.loc[::100],  # Smooth out\n",
    "        x=\"K\",\n",
    "        y=df.columns[1:],\n",
    "        line_shape=\"spline\",\n",
    "    )\n",
    "    layout = dict(\n",
    "        title_font_size=30,\n",
    "        xaxis_tickfont_size=20,\n",
    "        yaxis_tickfont_size=20,\n",
    "        yaxis_title_text=\"Recall\",\n",
    "        legend_title_text=\"Method\",\n",
    "        legend_font_size=25,\n",
    "        yaxis_title_font_size=25,\n",
    "        xaxis_title_font_size=25,\n",
    "        xaxis=dict(\n",
    "            tickvals=[i for i in range(0, 10001, 1000)],\n",
    "        ),\n",
    "        height=600,\n",
    "        width=1250,\n",
    "        title=\"Active Learning Simulation\",\n",
    "        legend=dict(\n",
    "            orientation=\"h\",\n",
    "            yanchor=\"bottom\",\n",
    "            y=.07,\n",
    "            xanchor=\"center\",\n",
    "\n",
    "        ),\n",
    "    )\n",
    "    fig.update_layout(**layout)\n",
    "    if save:\n",
    "        save_plot(fig, \"reranking_recall_at_k\", layout)\n",
    "    fig.show()\n",
    "    # values at 1000, 2000, 3000, 4000, 5000\n",
    "    for k in [1000, 2000, 3000, 4000, 5000, 6000, 7000, 8000, 9000, 10000]:\n",
    "        print(f\"Recall@{k}:\")\n",
    "        display(df[df[\"K\"] == k].iloc[:, 1:].mean(numeric_only=True).to_frame().T.round(3))\n",
    "active_learning(False)"
   ]
  }
 ],
 "metadata": {
  "kernelspec": {
   "display_name": ".venv",
   "language": "python",
   "name": "python3"
  },
  "language_info": {
   "codemirror_mode": {
    "name": "ipython",
    "version": 3
   },
   "file_extension": ".py",
   "mimetype": "text/x-python",
   "name": "python",
   "nbconvert_exporter": "python",
   "pygments_lexer": "ipython3",
   "version": "3.12.8"
  }
 },
 "nbformat": 4,
 "nbformat_minor": 5
}
