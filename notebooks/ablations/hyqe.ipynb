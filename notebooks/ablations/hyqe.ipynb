{
 "cells": [
  {
   "cell_type": "code",
   "execution_count": null,
   "id": "88f956ef",
   "metadata": {},
   "outputs": [],
   "source": [
    "from notebooks.ablations.utils import TOPICS_UNDER_10K\n",
    "from models import BM25Reranker\n",
    "from utils import HyResearch\n",
    "from tqdm.auto import tqdm\n",
    "from glob import glob\n",
    "import pandas as pd\n",
    "import numpy as np\n",
    "\n",
    "files = glob(\"ablation/hyde/**/*.parquet\")\n",
    "files = [i.replace(\"\\\\\", \"/\") for i in files]\n",
    "eval_df = pd.read_excel(\"data/eval_cps.xlsx\")"
   ]
  },
  {
   "cell_type": "code",
   "execution_count": null,
   "id": "abd7b76f",
   "metadata": {},
   "outputs": [],
   "source": [
    "def bm25_query(topic: str, query: str) -> str:\n",
    "    return \"\\n\".join(HyResearch().generate_n_queries(query, topic, 1))\n",
    "\n",
    "def get_topic_data(df: pd.DataFrame, topic: str) -> list[str, dict[str, str]]:\n",
    "    topic_df = df[df[\"topic\"] == topic]\n",
    "    query = topic_df[\"query\"].iloc[0]\n",
    "    query = \"\\n\".join(query) if isinstance(query, (list, np.ndarray)) else query\n",
    "    documents = dict(zip(topic_df[\"id\"].values, [i for i in topic_df[\"text\"].values]))\n",
    "    return query, documents\n",
    "\n",
    "def run():\n",
    "    reranker = BM25Reranker()\n",
    "    for file in tqdm(files, desc=\"Files\"):\n",
    "        df = pd.read_parquet(file)\n",
    "        output_path = file.replace(\"/hyde/\", \"/hyqe/\")\n",
    "        results = {\n",
    "            \"topic\": [],\n",
    "            \"id\": [],\n",
    "            \"scores\": [],\n",
    "        }\n",
    "        for topic, top_n in tqdm(TOPICS_UNDER_10K.items(), desc=\"Topics\", leave=False):\n",
    "            query, documents = get_topic_data(df, topic)\n",
    "            query = bm25_query(topic, query)\n",
    "            scores = reranker.rerank(query, documents)\n",
    "            results[\"topic\"].extend([topic] * top_n)\n",
    "            results[\"id\"].extend(list(scores.keys())[:top_n])\n",
    "            results[\"scores\"].extend(list(scores.values())[:top_n])\n",
    "\n",
    "        pd.DataFrame(results).to_parquet(output_path)"
   ]
  },
  {
   "cell_type": "code",
   "execution_count": null,
   "id": "48222e4a",
   "metadata": {},
   "outputs": [],
   "source": [
    "def parse_data(files: list[str]) -> tuple[str, pd.DataFrame]:\n",
    "    dfs = []\n",
    "    for file in tqdm(files):\n",
    "        cp_type = file.split(\"/\")[2]\n",
    "        hyde_n = file.split(\"_HYDE\")[1][0]\n",
    "        df_id = f\"CP type: {cp_type} HyDe: {hyde_n}\"\n",
    "        hyde_df = pd.read_parquet(file.replace(\"/hyqe/\", \"/hyde/\"))\n",
    "        hyqe_df = pd.read_parquet(file)\n",
    "        results = {\n",
    "            \"topic\": [],\n",
    "            \"hyde\": [],\n",
    "            \"hyqe\": [],\n",
    "        }\n",
    "        for topic, top_n in TOPICS_UNDER_10K.items():\n",
    "            hyde_topic = (\n",
    "                hyde_df[hyde_df[\"topic\"] == topic]\n",
    "                .sort_values(\"score\", ascending=False)\n",
    "                .head(top_n)\n",
    "            )\n",
    "            hyqe_topic = (\n",
    "                hyqe_df[hyqe_df[\"topic\"] == topic]\n",
    "                .sort_values(\"scores\", ascending=False)\n",
    "                .head(top_n)\n",
    "            )\n",
    "            eval_topic = eval_df[eval_df[\"topic\"] == topic][\"id\"].tolist()\n",
    "\n",
    "            hyde_cores = hyde_topic[\"id\"].isin(eval_topic).sum()\n",
    "            hyqe_cores = hyqe_topic[\"id\"].isin(eval_topic).sum()\n",
    "            eval_cores = len(eval_topic)\n",
    "            results[\"topic\"].append(topic)\n",
    "            results[\"hyde\"].append(hyde_cores / eval_cores)\n",
    "            results[\"hyqe\"].append(hyqe_cores / eval_cores)\n",
    "        dfs.append((df_id, pd.DataFrame(results)))\n",
    "\n",
    "    return dfs\n",
    "\n",
    "\n",
    "def show_results(files: list[str]):\n",
    "    dfs = parse_data(files)  # type: list[tuple[str, pd.DataFrame]]\n",
    "    mean_recalls = []\n",
    "    to_display = []\n",
    "    for name, df in dfs:\n",
    "        mean_recalls.append(df[\"hyqe\"].mean(axis=0, numeric_only=True))\n",
    "        df.loc[\"Average\"] = df.mean(axis=0, numeric_only=True)\n",
    "        to_display.append(df.style.highlight_max(axis=1, subset=[\"hyde\", \"hyqe\"], color=\"green\")\n",
    "            .set_caption(name)\n",
    "            .format(\"{:.2}\", subset=[\"hyde\", \"hyqe\"])\n",
    "            .set_table_attributes('style=\"width: 50%;\"'))\n",
    "        \n",
    "    print(f\"HyDe=0: {mean_recalls[0]:.3f}\")\n",
    "    print(f\"HyDe=1: {mean_recalls[1]:.3f}\")\n",
    "    print(f\"HyDe=2: {mean_recalls[2]:.3f}\")\n",
    "    [display(i) for i in to_display]"
   ]
  },
  {
   "cell_type": "markdown",
   "id": "20af321f",
   "metadata": {},
   "source": [
    "#### Using the Worst CP"
   ]
  },
  {
   "cell_type": "code",
   "execution_count": null,
   "id": "b4a1c03d",
   "metadata": {},
   "outputs": [],
   "source": [
    "worst_files = glob(\"ablation/hyqe/worst/All_*.parquet\")\n",
    "show_results(worst_files)"
   ]
  },
  {
   "cell_type": "markdown",
   "id": "0db24f9c",
   "metadata": {},
   "source": [
    "#### Using the Average CP"
   ]
  },
  {
   "cell_type": "code",
   "execution_count": null,
   "id": "6599a795",
   "metadata": {},
   "outputs": [],
   "source": [
    "average_files = glob(\"ablation/hyqe/average/All_*.parquet\")\n",
    "show_results(average_files)"
   ]
  },
  {
   "cell_type": "markdown",
   "id": "b7f31ed7",
   "metadata": {},
   "source": [
    "#### Using the Best CP"
   ]
  },
  {
   "cell_type": "code",
   "execution_count": null,
   "id": "e6f95176",
   "metadata": {},
   "outputs": [],
   "source": [
    "best_files = glob(\"ablation/hyqe/best/All_*.parquet\")\n",
    "show_results(best_files)"
   ]
  }
 ],
 "metadata": {
  "kernelspec": {
   "display_name": ".venv",
   "language": "python",
   "name": "python3"
  },
  "language_info": {
   "codemirror_mode": {
    "name": "ipython",
    "version": 3
   },
   "file_extension": ".py",
   "mimetype": "text/x-python",
   "name": "python",
   "nbconvert_exporter": "python",
   "pygments_lexer": "ipython3",
   "version": "3.12.8"
  }
 },
 "nbformat": 4,
 "nbformat_minor": 5
}
