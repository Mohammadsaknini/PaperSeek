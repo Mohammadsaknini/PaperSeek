{
 "cells": [
  {
   "cell_type": "markdown",
   "id": "f0513517",
   "metadata": {},
   "source": [
    "## Ablation Study for PaperSeek\n",
    "\n",
    "This notebook presents an ablation study for the PaperSeek pipeline, examining how HyQe and HyDe affect the retrieval performance of the BM25 across various scientific topics.\n",
    "\n",
    "1. The effect of combining rerankers and Reciprocal Rank Fusion (RPF)."
   ]
  },
  {
   "cell_type": "code",
   "execution_count": 216,
   "id": "d835caa7",
   "metadata": {},
   "outputs": [],
   "source": [
    "from models import ReciprocalRankFusion\n",
    "from collections import defaultdict\n",
    "from typing import Literal\n",
    "from textwrap import shorten\n",
    "import plotly.express as px\n",
    "import numpy as np\n",
    "from glob import glob\n",
    "import pandas as pd"
   ]
  },
  {
   "cell_type": "code",
   "execution_count": 217,
   "id": "f2c5a616",
   "metadata": {},
   "outputs": [],
   "source": [
    "eval_df = pd.read_excel(\"data/eval_cps.xlsx\")\n",
    "files = glob(\"ablation/rerankers/*.parquet\")\n",
    "rrf = ReciprocalRankFusion()"
   ]
  },
  {
   "cell_type": "code",
   "execution_count": 218,
   "id": "c1ba0104",
   "metadata": {},
   "outputs": [],
   "source": [
    "def get_stella_results(file: str) -> pd.DataFrame:\n",
    "    file_name = file.split(\"\\\\\")[1]\n",
    "    path = f\"ablation/final/{file_name}\"\n",
    "    df = pd.read_parquet(path, columns=[\"topic\", \"id\"]).rename(\n",
    "        {\"topic\": \"Topic\"}, axis=1\n",
    "    )\n",
    "    return df\n",
    "\n",
    "\n",
    "def read_results(\n",
    "    file: str,\n",
    "    rerankers: list[\n",
    "        Literal[\n",
    "            \"BM25Reranker\",\n",
    "            \"MiniLmCE\",\n",
    "            \"BGEReranker\",\n",
    "            \"Qwen2\",\n",
    "        ]\n",
    "    ],\n",
    "    include_stella=True,\n",
    ") -> pd.DataFrame:\n",
    "    if include_stella:\n",
    "        stella_df = get_stella_results(file)\n",
    "\n",
    "    reranker_df = pd.read_parquet(file)\n",
    "    topics = reranker_df[\"Topic\"].unique()\n",
    "\n",
    "    results = defaultdict(list)\n",
    "    for topic in topics:\n",
    "        topic_results = []\n",
    "        top_n = reranker_df[reranker_df[\"Topic\"] == topic].shape[0]\n",
    "        results[\"Topic\"].extend([topic] * top_n)\n",
    "        for reranker in rerankers:\n",
    "            reranker_ids = reranker_df[reranker_df[\"Topic\"] == topic][reranker].tolist()\n",
    "            results[reranker].extend(reranker_ids)\n",
    "            topic_results.append(reranker_ids)\n",
    "\n",
    "        if include_stella:\n",
    "            stella_ids = (\n",
    "                stella_df[stella_df[\"Topic\"] == topic][\"id\"].head(top_n).tolist()\n",
    "            )\n",
    "            results[\"Stella\"].extend(stella_ids)\n",
    "            topic_results.append(stella_ids)\n",
    "        results[\"ReciprocalRankFusion\"].extend(\n",
    "            list(rrf.rerank(topic_results).keys())[:top_n]\n",
    "        )\n",
    "\n",
    "    return pd.DataFrame(results)\n",
    "\n",
    "\n",
    "def parse_results(\n",
    "    files: list[str],\n",
    "    rerankers: list[\n",
    "        Literal[\n",
    "            \"BM25Reranker\",\n",
    "            \"MiniLmCE\",\n",
    "            \"BGEReranker\",\n",
    "            \"Qwen2\",\n",
    "        ]\n",
    "    ],\n",
    ") -> pd.DataFrame:\n",
    "    results = defaultdict(list)\n",
    "\n",
    "    for file in files:\n",
    "        df = read_results(file, rerankers)\n",
    "        topics = df[\"Topic\"].unique()\n",
    "        for topic in topics:\n",
    "            topic_df = df[df[\"Topic\"] == topic]\n",
    "            eval_cores = set(eval_df[eval_df[\"topic\"] == topic][\"id\"].tolist())\n",
    "\n",
    "            recalls = []\n",
    "            for reranker in rerankers + [\n",
    "                \"Stella\",\n",
    "                \"ReciprocalRankFusion\",\n",
    "            ]:  # Always include Stella and RRF\n",
    "                recall = len(\n",
    "                    set(topic_df[reranker].tolist()).intersection(eval_cores)\n",
    "                ) / len(eval_cores)\n",
    "                recalls.append(recall)\n",
    "                # if reranker == \"BM25Reranker\" and topic ==\"Software Process Line\":\n",
    "                #     print(recall)\n",
    "            results[topic].append(recalls)\n",
    "    return pd.DataFrame({k: np.mean(v, axis=0) for k, v in results.items()})\n",
    "\n",
    "\n",
    "def show_results(\n",
    "    files: list[str],\n",
    "    rerankers: list[\n",
    "        Literal[\n",
    "            \"BM25Reranker\",\n",
    "            \"MiniLmCE\",\n",
    "            \"BGEReranker\",\n",
    "            \"Qwen2\",\n",
    "        ]\n",
    "    ],\n",
    "):\n",
    "    to_keep = [  # under 5k\n",
    "        \"Software Process Line\",\n",
    "        \"Pharmacokinetics and...\",\n",
    "        \"The rodent object-in-...\",\n",
    "        \"Cerebral Small Vessel...\",\n",
    "        \"Business Process Meta Models\",\n",
    "        \"Data Stream Processing Latency\",\n",
    "        \"Specialized psychotherapies...\",\n",
    "    ]\n",
    "\n",
    "    df = parse_results(files, rerankers).T.reset_index(names=\"Topic\")\n",
    "    rerankers.extend([\"Stella\", \"ReciprocalRankFusion\"])\n",
    "    df.rename({i: rerankers[i] for i in range(len(rerankers))}, axis=1, inplace=True)\n",
    "    df[\"Topic\"]= df[\"Topic\"].apply(lambda x: shorten(x, width=30, placeholder=\"...\"))\n",
    "    df = df[df[\"Topic\"].isin(to_keep)]\n",
    "\n",
    "    fig = px.imshow(\n",
    "        df.set_index(\"Topic\"),\n",
    "        color_continuous_scale=\"RdBu\",\n",
    "        aspect=\"auto\",\n",
    "    )\n",
    "    fig.update_xaxes(title_text=\"Topic\")\n",
    "    fig.update_yaxes(title_text=\"Recall\")\n",
    "    fig.update_layout(title_x=0.5)\n",
    "    fig.update_traces(texttemplate=\"%{z:.2f}\", textfont={\"size\": 12})\n",
    "    fig.show()\n",
    "    print(\"--\" * 50)\n",
    "\n",
    "    print(\"Overall average:\")\n",
    "    display(\n",
    "        df.mean(axis=0, numeric_only=True)\n",
    "        .to_frame()\n",
    "        .T.style.format(\"{:.2f}\", subset=rerankers)\n",
    "        .highlight_max(axis=1, color=\"green\")\n",
    "    )\n"
   ]
  },
  {
   "cell_type": "code",
   "execution_count": 222,
   "id": "d5bbefc0",
   "metadata": {},
   "outputs": [
    {
     "data": {
      "application/vnd.plotly.v1+json": {
       "config": {
        "plotlyServerURL": "https://plot.ly"
       },
       "data": [
        {
         "coloraxis": "coloraxis",
         "hovertemplate": "x: %{x}<br>Topic: %{y}<br>color: %{z}<extra></extra>",
         "name": "0",
         "textfont": {
          "size": 12
         },
         "texttemplate": "%{z:.2f}",
         "type": "heatmap",
         "x": [
          "BM25Reranker",
          "MiniLmCE",
          "BGEReranker",
          "Qwen2",
          "Stella",
          "ReciprocalRankFusion"
         ],
         "xaxis": "x",
         "y": [
          "Software Process Line",
          "Data Stream Processing Latency",
          "Business Process Meta Models",
          "Cerebral Small Vessel...",
          "Pharmacokinetics and...",
          "Specialized psychotherapies...",
          "The rodent object-in-..."
         ],
         "yaxis": "y",
         "z": [
          [
           0.3416666666666667,
           0.2375,
           0.13333333333333333,
           0.6958333333333333,
           0.5708333333333334,
           0.5666666666666667
          ],
          [
           0.2477272727272727,
           0.3181818181818182,
           0.4022727272727272,
           0.4795454545454545,
           0.46818181818181814,
           0.44772727272727264
          ],
          [
           0.45,
           0.39999999999999997,
           0.37999999999999995,
           0.5700000000000001,
           0.6199999999999999,
           0.5800000000000001
          ],
          [
           0.16666666666666666,
           0.16666666666666666,
           0.34444444444444444,
           0.4666666666666668,
           0.4555555555555556,
           0.4222222222222222
          ],
          [
           0.38333333333333336,
           0.4916666666666667,
           0.4916666666666667,
           0.725,
           0.7999999999999999,
           0.7583333333333334
          ],
          [
           0.9571428571428571,
           0.9142857142857143,
           0.7642857142857143,
           1,
           1,
           1
          ],
          [
           0.268,
           0.368,
           0.14,
           0.42799999999999994,
           0.352,
           0.404
          ]
         ]
        }
       ],
       "layout": {
        "coloraxis": {
         "colorscale": [
          [
           0,
           "rgb(103,0,31)"
          ],
          [
           0.1,
           "rgb(178,24,43)"
          ],
          [
           0.2,
           "rgb(214,96,77)"
          ],
          [
           0.3,
           "rgb(244,165,130)"
          ],
          [
           0.4,
           "rgb(253,219,199)"
          ],
          [
           0.5,
           "rgb(247,247,247)"
          ],
          [
           0.6,
           "rgb(209,229,240)"
          ],
          [
           0.7,
           "rgb(146,197,222)"
          ],
          [
           0.8,
           "rgb(67,147,195)"
          ],
          [
           0.9,
           "rgb(33,102,172)"
          ],
          [
           1,
           "rgb(5,48,97)"
          ]
         ]
        },
        "margin": {
         "t": 60
        },
        "template": {
         "data": {
          "bar": [
           {
            "error_x": {
             "color": "#2a3f5f"
            },
            "error_y": {
             "color": "#2a3f5f"
            },
            "marker": {
             "line": {
              "color": "#E5ECF6",
              "width": 0.5
             },
             "pattern": {
              "fillmode": "overlay",
              "size": 10,
              "solidity": 0.2
             }
            },
            "type": "bar"
           }
          ],
          "barpolar": [
           {
            "marker": {
             "line": {
              "color": "#E5ECF6",
              "width": 0.5
             },
             "pattern": {
              "fillmode": "overlay",
              "size": 10,
              "solidity": 0.2
             }
            },
            "type": "barpolar"
           }
          ],
          "carpet": [
           {
            "aaxis": {
             "endlinecolor": "#2a3f5f",
             "gridcolor": "white",
             "linecolor": "white",
             "minorgridcolor": "white",
             "startlinecolor": "#2a3f5f"
            },
            "baxis": {
             "endlinecolor": "#2a3f5f",
             "gridcolor": "white",
             "linecolor": "white",
             "minorgridcolor": "white",
             "startlinecolor": "#2a3f5f"
            },
            "type": "carpet"
           }
          ],
          "choropleth": [
           {
            "colorbar": {
             "outlinewidth": 0,
             "ticks": ""
            },
            "type": "choropleth"
           }
          ],
          "contour": [
           {
            "colorbar": {
             "outlinewidth": 0,
             "ticks": ""
            },
            "colorscale": [
             [
              0,
              "#0d0887"
             ],
             [
              0.1111111111111111,
              "#46039f"
             ],
             [
              0.2222222222222222,
              "#7201a8"
             ],
             [
              0.3333333333333333,
              "#9c179e"
             ],
             [
              0.4444444444444444,
              "#bd3786"
             ],
             [
              0.5555555555555556,
              "#d8576b"
             ],
             [
              0.6666666666666666,
              "#ed7953"
             ],
             [
              0.7777777777777778,
              "#fb9f3a"
             ],
             [
              0.8888888888888888,
              "#fdca26"
             ],
             [
              1,
              "#f0f921"
             ]
            ],
            "type": "contour"
           }
          ],
          "contourcarpet": [
           {
            "colorbar": {
             "outlinewidth": 0,
             "ticks": ""
            },
            "type": "contourcarpet"
           }
          ],
          "heatmap": [
           {
            "colorbar": {
             "outlinewidth": 0,
             "ticks": ""
            },
            "colorscale": [
             [
              0,
              "#0d0887"
             ],
             [
              0.1111111111111111,
              "#46039f"
             ],
             [
              0.2222222222222222,
              "#7201a8"
             ],
             [
              0.3333333333333333,
              "#9c179e"
             ],
             [
              0.4444444444444444,
              "#bd3786"
             ],
             [
              0.5555555555555556,
              "#d8576b"
             ],
             [
              0.6666666666666666,
              "#ed7953"
             ],
             [
              0.7777777777777778,
              "#fb9f3a"
             ],
             [
              0.8888888888888888,
              "#fdca26"
             ],
             [
              1,
              "#f0f921"
             ]
            ],
            "type": "heatmap"
           }
          ],
          "heatmapgl": [
           {
            "colorbar": {
             "outlinewidth": 0,
             "ticks": ""
            },
            "colorscale": [
             [
              0,
              "#0d0887"
             ],
             [
              0.1111111111111111,
              "#46039f"
             ],
             [
              0.2222222222222222,
              "#7201a8"
             ],
             [
              0.3333333333333333,
              "#9c179e"
             ],
             [
              0.4444444444444444,
              "#bd3786"
             ],
             [
              0.5555555555555556,
              "#d8576b"
             ],
             [
              0.6666666666666666,
              "#ed7953"
             ],
             [
              0.7777777777777778,
              "#fb9f3a"
             ],
             [
              0.8888888888888888,
              "#fdca26"
             ],
             [
              1,
              "#f0f921"
             ]
            ],
            "type": "heatmapgl"
           }
          ],
          "histogram": [
           {
            "marker": {
             "pattern": {
              "fillmode": "overlay",
              "size": 10,
              "solidity": 0.2
             }
            },
            "type": "histogram"
           }
          ],
          "histogram2d": [
           {
            "colorbar": {
             "outlinewidth": 0,
             "ticks": ""
            },
            "colorscale": [
             [
              0,
              "#0d0887"
             ],
             [
              0.1111111111111111,
              "#46039f"
             ],
             [
              0.2222222222222222,
              "#7201a8"
             ],
             [
              0.3333333333333333,
              "#9c179e"
             ],
             [
              0.4444444444444444,
              "#bd3786"
             ],
             [
              0.5555555555555556,
              "#d8576b"
             ],
             [
              0.6666666666666666,
              "#ed7953"
             ],
             [
              0.7777777777777778,
              "#fb9f3a"
             ],
             [
              0.8888888888888888,
              "#fdca26"
             ],
             [
              1,
              "#f0f921"
             ]
            ],
            "type": "histogram2d"
           }
          ],
          "histogram2dcontour": [
           {
            "colorbar": {
             "outlinewidth": 0,
             "ticks": ""
            },
            "colorscale": [
             [
              0,
              "#0d0887"
             ],
             [
              0.1111111111111111,
              "#46039f"
             ],
             [
              0.2222222222222222,
              "#7201a8"
             ],
             [
              0.3333333333333333,
              "#9c179e"
             ],
             [
              0.4444444444444444,
              "#bd3786"
             ],
             [
              0.5555555555555556,
              "#d8576b"
             ],
             [
              0.6666666666666666,
              "#ed7953"
             ],
             [
              0.7777777777777778,
              "#fb9f3a"
             ],
             [
              0.8888888888888888,
              "#fdca26"
             ],
             [
              1,
              "#f0f921"
             ]
            ],
            "type": "histogram2dcontour"
           }
          ],
          "mesh3d": [
           {
            "colorbar": {
             "outlinewidth": 0,
             "ticks": ""
            },
            "type": "mesh3d"
           }
          ],
          "parcoords": [
           {
            "line": {
             "colorbar": {
              "outlinewidth": 0,
              "ticks": ""
             }
            },
            "type": "parcoords"
           }
          ],
          "pie": [
           {
            "automargin": true,
            "type": "pie"
           }
          ],
          "scatter": [
           {
            "fillpattern": {
             "fillmode": "overlay",
             "size": 10,
             "solidity": 0.2
            },
            "type": "scatter"
           }
          ],
          "scatter3d": [
           {
            "line": {
             "colorbar": {
              "outlinewidth": 0,
              "ticks": ""
             }
            },
            "marker": {
             "colorbar": {
              "outlinewidth": 0,
              "ticks": ""
             }
            },
            "type": "scatter3d"
           }
          ],
          "scattercarpet": [
           {
            "marker": {
             "colorbar": {
              "outlinewidth": 0,
              "ticks": ""
             }
            },
            "type": "scattercarpet"
           }
          ],
          "scattergeo": [
           {
            "marker": {
             "colorbar": {
              "outlinewidth": 0,
              "ticks": ""
             }
            },
            "type": "scattergeo"
           }
          ],
          "scattergl": [
           {
            "marker": {
             "colorbar": {
              "outlinewidth": 0,
              "ticks": ""
             }
            },
            "type": "scattergl"
           }
          ],
          "scattermapbox": [
           {
            "marker": {
             "colorbar": {
              "outlinewidth": 0,
              "ticks": ""
             }
            },
            "type": "scattermapbox"
           }
          ],
          "scatterpolar": [
           {
            "marker": {
             "colorbar": {
              "outlinewidth": 0,
              "ticks": ""
             }
            },
            "type": "scatterpolar"
           }
          ],
          "scatterpolargl": [
           {
            "marker": {
             "colorbar": {
              "outlinewidth": 0,
              "ticks": ""
             }
            },
            "type": "scatterpolargl"
           }
          ],
          "scatterternary": [
           {
            "marker": {
             "colorbar": {
              "outlinewidth": 0,
              "ticks": ""
             }
            },
            "type": "scatterternary"
           }
          ],
          "surface": [
           {
            "colorbar": {
             "outlinewidth": 0,
             "ticks": ""
            },
            "colorscale": [
             [
              0,
              "#0d0887"
             ],
             [
              0.1111111111111111,
              "#46039f"
             ],
             [
              0.2222222222222222,
              "#7201a8"
             ],
             [
              0.3333333333333333,
              "#9c179e"
             ],
             [
              0.4444444444444444,
              "#bd3786"
             ],
             [
              0.5555555555555556,
              "#d8576b"
             ],
             [
              0.6666666666666666,
              "#ed7953"
             ],
             [
              0.7777777777777778,
              "#fb9f3a"
             ],
             [
              0.8888888888888888,
              "#fdca26"
             ],
             [
              1,
              "#f0f921"
             ]
            ],
            "type": "surface"
           }
          ],
          "table": [
           {
            "cells": {
             "fill": {
              "color": "#EBF0F8"
             },
             "line": {
              "color": "white"
             }
            },
            "header": {
             "fill": {
              "color": "#C8D4E3"
             },
             "line": {
              "color": "white"
             }
            },
            "type": "table"
           }
          ]
         },
         "layout": {
          "annotationdefaults": {
           "arrowcolor": "#2a3f5f",
           "arrowhead": 0,
           "arrowwidth": 1
          },
          "autotypenumbers": "strict",
          "coloraxis": {
           "colorbar": {
            "outlinewidth": 0,
            "ticks": ""
           }
          },
          "colorscale": {
           "diverging": [
            [
             0,
             "#8e0152"
            ],
            [
             0.1,
             "#c51b7d"
            ],
            [
             0.2,
             "#de77ae"
            ],
            [
             0.3,
             "#f1b6da"
            ],
            [
             0.4,
             "#fde0ef"
            ],
            [
             0.5,
             "#f7f7f7"
            ],
            [
             0.6,
             "#e6f5d0"
            ],
            [
             0.7,
             "#b8e186"
            ],
            [
             0.8,
             "#7fbc41"
            ],
            [
             0.9,
             "#4d9221"
            ],
            [
             1,
             "#276419"
            ]
           ],
           "sequential": [
            [
             0,
             "#0d0887"
            ],
            [
             0.1111111111111111,
             "#46039f"
            ],
            [
             0.2222222222222222,
             "#7201a8"
            ],
            [
             0.3333333333333333,
             "#9c179e"
            ],
            [
             0.4444444444444444,
             "#bd3786"
            ],
            [
             0.5555555555555556,
             "#d8576b"
            ],
            [
             0.6666666666666666,
             "#ed7953"
            ],
            [
             0.7777777777777778,
             "#fb9f3a"
            ],
            [
             0.8888888888888888,
             "#fdca26"
            ],
            [
             1,
             "#f0f921"
            ]
           ],
           "sequentialminus": [
            [
             0,
             "#0d0887"
            ],
            [
             0.1111111111111111,
             "#46039f"
            ],
            [
             0.2222222222222222,
             "#7201a8"
            ],
            [
             0.3333333333333333,
             "#9c179e"
            ],
            [
             0.4444444444444444,
             "#bd3786"
            ],
            [
             0.5555555555555556,
             "#d8576b"
            ],
            [
             0.6666666666666666,
             "#ed7953"
            ],
            [
             0.7777777777777778,
             "#fb9f3a"
            ],
            [
             0.8888888888888888,
             "#fdca26"
            ],
            [
             1,
             "#f0f921"
            ]
           ]
          },
          "colorway": [
           "#636efa",
           "#EF553B",
           "#00cc96",
           "#ab63fa",
           "#FFA15A",
           "#19d3f3",
           "#FF6692",
           "#B6E880",
           "#FF97FF",
           "#FECB52"
          ],
          "font": {
           "color": "#2a3f5f"
          },
          "geo": {
           "bgcolor": "white",
           "lakecolor": "white",
           "landcolor": "#E5ECF6",
           "showlakes": true,
           "showland": true,
           "subunitcolor": "white"
          },
          "hoverlabel": {
           "align": "left"
          },
          "hovermode": "closest",
          "mapbox": {
           "style": "light"
          },
          "paper_bgcolor": "white",
          "plot_bgcolor": "#E5ECF6",
          "polar": {
           "angularaxis": {
            "gridcolor": "white",
            "linecolor": "white",
            "ticks": ""
           },
           "bgcolor": "#E5ECF6",
           "radialaxis": {
            "gridcolor": "white",
            "linecolor": "white",
            "ticks": ""
           }
          },
          "scene": {
           "xaxis": {
            "backgroundcolor": "#E5ECF6",
            "gridcolor": "white",
            "gridwidth": 2,
            "linecolor": "white",
            "showbackground": true,
            "ticks": "",
            "zerolinecolor": "white"
           },
           "yaxis": {
            "backgroundcolor": "#E5ECF6",
            "gridcolor": "white",
            "gridwidth": 2,
            "linecolor": "white",
            "showbackground": true,
            "ticks": "",
            "zerolinecolor": "white"
           },
           "zaxis": {
            "backgroundcolor": "#E5ECF6",
            "gridcolor": "white",
            "gridwidth": 2,
            "linecolor": "white",
            "showbackground": true,
            "ticks": "",
            "zerolinecolor": "white"
           }
          },
          "shapedefaults": {
           "line": {
            "color": "#2a3f5f"
           }
          },
          "ternary": {
           "aaxis": {
            "gridcolor": "white",
            "linecolor": "white",
            "ticks": ""
           },
           "baxis": {
            "gridcolor": "white",
            "linecolor": "white",
            "ticks": ""
           },
           "bgcolor": "#E5ECF6",
           "caxis": {
            "gridcolor": "white",
            "linecolor": "white",
            "ticks": ""
           }
          },
          "title": {
           "x": 0.05
          },
          "xaxis": {
           "automargin": true,
           "gridcolor": "white",
           "linecolor": "white",
           "ticks": "",
           "title": {
            "standoff": 15
           },
           "zerolinecolor": "white",
           "zerolinewidth": 2
          },
          "yaxis": {
           "automargin": true,
           "gridcolor": "white",
           "linecolor": "white",
           "ticks": "",
           "title": {
            "standoff": 15
           },
           "zerolinecolor": "white",
           "zerolinewidth": 2
          }
         }
        },
        "title": {
         "x": 0.5
        },
        "xaxis": {
         "anchor": "y",
         "domain": [
          0,
          1
         ],
         "title": {
          "text": "Topic"
         }
        },
        "yaxis": {
         "anchor": "x",
         "autorange": "reversed",
         "domain": [
          0,
          1
         ],
         "title": {
          "text": "Recall"
         }
        }
       }
      }
     },
     "metadata": {},
     "output_type": "display_data"
    },
    {
     "name": "stdout",
     "output_type": "stream",
     "text": [
      "----------------------------------------------------------------------------------------------------\n",
      "Overall average:\n"
     ]
    },
    {
     "data": {
      "text/html": [
       "<style type=\"text/css\">\n",
       "#T_90968_row0_col3 {\n",
       "  background-color: green;\n",
       "}\n",
       "</style>\n",
       "<table id=\"T_90968\">\n",
       "  <thead>\n",
       "    <tr>\n",
       "      <th class=\"blank level0\" >&nbsp;</th>\n",
       "      <th id=\"T_90968_level0_col0\" class=\"col_heading level0 col0\" >BM25Reranker</th>\n",
       "      <th id=\"T_90968_level0_col1\" class=\"col_heading level0 col1\" >MiniLmCE</th>\n",
       "      <th id=\"T_90968_level0_col2\" class=\"col_heading level0 col2\" >BGEReranker</th>\n",
       "      <th id=\"T_90968_level0_col3\" class=\"col_heading level0 col3\" >Qwen2</th>\n",
       "      <th id=\"T_90968_level0_col4\" class=\"col_heading level0 col4\" >Stella</th>\n",
       "      <th id=\"T_90968_level0_col5\" class=\"col_heading level0 col5\" >ReciprocalRankFusion</th>\n",
       "    </tr>\n",
       "  </thead>\n",
       "  <tbody>\n",
       "    <tr>\n",
       "      <th id=\"T_90968_level0_row0\" class=\"row_heading level0 row0\" >0</th>\n",
       "      <td id=\"T_90968_row0_col0\" class=\"data row0 col0\" >0.40</td>\n",
       "      <td id=\"T_90968_row0_col1\" class=\"data row0 col1\" >0.41</td>\n",
       "      <td id=\"T_90968_row0_col2\" class=\"data row0 col2\" >0.38</td>\n",
       "      <td id=\"T_90968_row0_col3\" class=\"data row0 col3\" >0.62</td>\n",
       "      <td id=\"T_90968_row0_col4\" class=\"data row0 col4\" >0.61</td>\n",
       "      <td id=\"T_90968_row0_col5\" class=\"data row0 col5\" >0.60</td>\n",
       "    </tr>\n",
       "  </tbody>\n",
       "</table>\n"
      ],
      "text/plain": [
       "<pandas.io.formats.style.Styler at 0x1ce0e8a6030>"
      ]
     },
     "metadata": {},
     "output_type": "display_data"
    }
   ],
   "source": [
    "show_results(\n",
    "    files, [\"BM25Reranker\", \"MiniLmCE\", \"BGEReranker\", \"Qwen2\"]\n",
    ")"
   ]
  }
 ],
 "metadata": {
  "kernelspec": {
   "display_name": ".venv",
   "language": "python",
   "name": "python3"
  },
  "language_info": {
   "codemirror_mode": {
    "name": "ipython",
    "version": 3
   },
   "file_extension": ".py",
   "mimetype": "text/x-python",
   "name": "python",
   "nbconvert_exporter": "python",
   "pygments_lexer": "ipython3",
   "version": "3.12.8"
  }
 },
 "nbformat": 4,
 "nbformat_minor": 5
}
