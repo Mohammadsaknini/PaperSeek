{
 "cells": [
  {
   "cell_type": "markdown",
   "metadata": {},
   "source": [
    "## Ablation Study for PaperSeek\n",
    "\n",
    "This notebook presents an ablation study for the PaperSeek pipeline, examining how different Core Publications affect the retrieval performance across various scientific topics.\n",
    "\n",
    "1. Exhaustive test on all the core publications in every topic."
   ]
  },
  {
   "cell_type": "code",
   "execution_count": null,
   "metadata": {},
   "outputs": [],
   "source": [
    "from utils import DataReader, Query\n",
    "from textwrap import shorten\n",
    "import plotly.express as px\n",
    "from tqdm.auto import tqdm\n",
    "from glob import glob\n",
    "import pandas as pd\n",
    "import numpy as np\n",
    "\n",
    "core_df = pd.read_excel(\"data/eval_cps.xlsx\")\n",
    "topics = sorted(core_df[\"topic\"].unique())\n",
    "reader = DataReader()"
   ]
  },
  {
   "cell_type": "code",
   "execution_count": 98,
   "metadata": {},
   "outputs": [],
   "source": [
    "def save_hits(cps_id, topic, hits):\n",
    "    results = {\n",
    "        \"topic\": [],\n",
    "        \"core_id\": [],\n",
    "        \"n_cores\": [],\n",
    "    }\n",
    "    for i, hit in enumerate(hits):\n",
    "        topic_df = core_df[core_df[\"topic\"] == topic]\n",
    "        n_cores = topic_df[core_df[\"id\"].isin(hit.ids)][\"title\"].count()\n",
    "\n",
    "        results[\"topic\"].append(topic)\n",
    "        results[\"core_id\"].append(cps_id[i])\n",
    "        results[\"n_cores\"].append(n_cores.item())\n",
    "    \n",
    "    path =  f\"ablation/cp_effect/{topic}.xlsx\"\n",
    "    \n",
    "    try:\n",
    "        df = pd.read_excel(path)\n",
    "        df = pd.concat([df, pd.DataFrame(results)])\n",
    "    except FileNotFoundError:\n",
    "        df = pd.DataFrame(results)\n",
    "    df.to_excel(path, index=False, engine_kwargs={'options': {'strings_to_urls': False}})\n",
    "\n",
    "def is_done(topic):\n",
    "    try:\n",
    "        df = pd.read_excel(f\"ablation/cp_effect/{topic}.xlsx\")\n",
    "    except FileNotFoundError:\n",
    "        return []\n",
    "    return df[\"core_id\"].unique().tolist()\n",
    "\n",
    "\n",
    "def run():\n",
    "    chunk_size = 500 # Depends on the GPU memory\n",
    "    pbar = tqdm(topics)\n",
    "\n",
    "    for topic in pbar:\n",
    "        finished_cps = is_done(topic)\n",
    "        pbar.set_description(topic)\n",
    "        temp = core_df[core_df[\"topic\"] == topic]\n",
    "        queries = []\n",
    "        cps_id = []\n",
    "        for id, title, abstract in temp[[\"id\", \"title\", \"abstract\"]].values:\n",
    "            if id in finished_cps:\n",
    "                continue\n",
    "            text = f\"Title: {title}[SEP]\\nAbstract: {abstract}\"\n",
    "            queries.append(Query(topic).format(rq_count=1, supporting_texts=text))\n",
    "            cps_id.append(id)\n",
    "        \n",
    "        total = len(queries) // chunk_size\n",
    "        if len(queries) % chunk_size != 0:\n",
    "            total += + 1\n",
    "\n",
    "        for i in range(0, len(queries), chunk_size):\n",
    "            hits = reader.fetch(queries[i:i+chunk_size], prompt_name=\"s2p_query\")\n",
    "            save_hits(cps_id[i:i+chunk_size], topic, hits)\n",
    "            \n",
    "        pbar.update(1)\n",
    "\n",
    "def show_results(files, plot=False):\n",
    "    items = core_df.groupby(\"topic\").count().reset_index()[[\"topic\",\"id\"]].values\n",
    "    cps_per_topic = dict(zip(items[:,0], items[:,1]))\n",
    "    dfs = []\n",
    "    for file in files:\n",
    "        df = pd.read_excel(file)\n",
    "        topic = df[\"topic\"][0]\n",
    "        df[\"recall\"] = (df[\"n_cores\"] / cps_per_topic[topic]).round(2)\n",
    "        dfs.append(df)\n",
    "    df = pd.concat(dfs)\n",
    "    df[\"topic\"] = df[\"topic\"].apply(lambda x: shorten(x, width=30, placeholder=\"...\"))\n",
    "    overview = pd.DataFrame(cps_per_topic.values(), columns=[\"n_cps\"], index=topics).T\n",
    "    if plot:\n",
    "        overview.columns = overview.columns.map(lambda x: shorten(x, width=30, placeholder=\"...\"))\n",
    "        with pd.option_context(\"display.max_columns\", None):\n",
    "            display(overview)\n",
    "        px.box(\n",
    "            df, x=\"topic\", y=\"recall\", points=\"all\", height=600, hover_data=[\"core_id\"]\n",
    "        ).show()\n",
    "    return df\n",
    "\n",
    "def compute_quartile_averages(df: pd.DataFrame):\n",
    "    df = df.sort_values('recall', ascending=False).reset_index(drop=True)\n",
    "    n = len(df)\n",
    "    results = {\n",
    "        \"avg_top_25\": [],\n",
    "        \"avg_mid_50\": [],\n",
    "        \"avg_bot_25\": [],\n",
    "\n",
    "    }\n",
    "    for i, topic_df in df.groupby(\"topic\"):\n",
    "        n = len(topic_df)\n",
    "        topic_df = topic_df.sort_values('recall', ascending=False)\n",
    "        results[\"avg_top_25\"].append(topic_df.iloc[:int(n * 0.25)][\"recall\"].mean())\n",
    "        results[\"avg_mid_50\"].append(topic_df.iloc[int(n * 0.25):int(n * 0.75)][\"recall\"].mean())\n",
    "        results[\"avg_bot_25\"].append(topic_df.iloc[int(n * 0.75):][\"recall\"].mean())\n",
    "\n",
    "    return pd.DataFrame({\n",
    "        'avg_top_25': [np.mean(results[\"avg_top_25\"]).round(3)],\n",
    "        'avg_mid_50': [np.mean(results[\"avg_mid_50\"]).round(4)],\n",
    "        'avg_bot_25': [np.mean(results[\"avg_bot_25\"]).round(3)]\n",
    "    })"
   ]
  },
  {
   "cell_type": "code",
   "execution_count": 99,
   "metadata": {},
   "outputs": [
    {
     "data": {
      "text/html": [
       "<div>\n",
       "<style scoped>\n",
       "    .dataframe tbody tr th:only-of-type {\n",
       "        vertical-align: middle;\n",
       "    }\n",
       "\n",
       "    .dataframe tbody tr th {\n",
       "        vertical-align: top;\n",
       "    }\n",
       "\n",
       "    .dataframe thead th {\n",
       "        text-align: right;\n",
       "    }\n",
       "</style>\n",
       "<table border=\"1\" class=\"dataframe\">\n",
       "  <thead>\n",
       "    <tr style=\"text-align: right;\">\n",
       "      <th></th>\n",
       "      <th>avg_top_25</th>\n",
       "      <th>avg_mid_50</th>\n",
       "      <th>avg_bot_25</th>\n",
       "    </tr>\n",
       "  </thead>\n",
       "  <tbody>\n",
       "    <tr>\n",
       "      <th>0</th>\n",
       "      <td>0.871</td>\n",
       "      <td>0.8296</td>\n",
       "      <td>0.742</td>\n",
       "    </tr>\n",
       "  </tbody>\n",
       "</table>\n",
       "</div>"
      ],
      "text/plain": [
       "   avg_top_25  avg_mid_50  avg_bot_25\n",
       "0       0.871      0.8296       0.742"
      ]
     },
     "execution_count": 99,
     "metadata": {},
     "output_type": "execute_result"
    }
   ],
   "source": [
    "files_s2p = glob(\"ablation/cp_effect_s2p/*.xlsx\")\n",
    "df_s2p = show_results(files_s2p)\n",
    "compute_quartile_averages(df_s2p)"
   ]
  },
  {
   "cell_type": "code",
   "execution_count": 96,
   "metadata": {},
   "outputs": [
    {
     "data": {
      "text/html": [
       "<div>\n",
       "<style scoped>\n",
       "    .dataframe tbody tr th:only-of-type {\n",
       "        vertical-align: middle;\n",
       "    }\n",
       "\n",
       "    .dataframe tbody tr th {\n",
       "        vertical-align: top;\n",
       "    }\n",
       "\n",
       "    .dataframe thead th {\n",
       "        text-align: right;\n",
       "    }\n",
       "</style>\n",
       "<table border=\"1\" class=\"dataframe\">\n",
       "  <thead>\n",
       "    <tr style=\"text-align: right;\">\n",
       "      <th></th>\n",
       "      <th>avg_top_25</th>\n",
       "      <th>avg_mid_50</th>\n",
       "      <th>avg_bot_25</th>\n",
       "    </tr>\n",
       "  </thead>\n",
       "  <tbody>\n",
       "    <tr>\n",
       "      <th>0</th>\n",
       "      <td>0.856</td>\n",
       "      <td>0.803</td>\n",
       "      <td>0.71</td>\n",
       "    </tr>\n",
       "  </tbody>\n",
       "</table>\n",
       "</div>"
      ],
      "text/plain": [
       "   avg_top_25  avg_mid_50  avg_bot_25\n",
       "0       0.856       0.803        0.71"
      ]
     },
     "execution_count": 96,
     "metadata": {},
     "output_type": "execute_result"
    }
   ],
   "source": [
    "files_s2s = glob(\"ablation/cp_effect_s2s/*.xlsx\")\n",
    "df_s2s = show_results(files_s2s)\n",
    "compute_quartile_averages(df_s2s)"
   ]
  },
  {
   "cell_type": "code",
   "execution_count": null,
   "metadata": {},
   "outputs": [],
   "source": [
    "df_s2p = df_s2p.groupby(\"topic\")[\"recall\"].agg([\"max\", \"min\", \"mean\"])\n",
    "df_s2s = df_s2s.groupby(\"topic\")[\"recall\"].agg([\"max\", \"min\", \"mean\"])\n",
    "results = df_s2p - df_s2s  # if positive, s2p is better\n",
    "s2p_better_count = (results[\"mean\"] > 0).sum()\n",
    "s2s_better_count = (results[\"mean\"] < 0).sum()\n",
    "same = (results[\"mean\"] == 0).sum()"
   ]
  },
  {
   "cell_type": "code",
   "execution_count": null,
   "metadata": {},
   "outputs": [],
   "source": [
    "print(f\"\"\"S2P better: {s2p_better_count} topics\n",
    "S2S better: {s2s_better_count} topics\n",
    "Same: {same} topics\n",
    "Average S2P recall: {df_s2p[\"mean\"].mean():.3f}\n",
    "Average S2S recall: {df_s2s[\"mean\"].mean():.3f}\"\"\")\n"
   ]
  },
  {
   "cell_type": "code",
   "execution_count": null,
   "metadata": {},
   "outputs": [],
   "source": [
    "# highlight negative values with red and positive with green, if 0 then no color\n",
    "print(\"Positive values means S2P is better\")\n",
    "# add mean as last row that sums the mean of each column\n",
    "results.style.apply(\n",
    "    lambda x: [\"background-color: red\" if v < 0 else \"background-color: green\" if v > 0 else \"\" for v in x],\n",
    "    subset=[\"max\", \"min\", \"mean\"],\n",
    ").format('{:.2f}',na_rep=\"0\", decimal=\".\", thousands=\",\")"
   ]
  }
 ],
 "metadata": {
  "kernelspec": {
   "display_name": ".venv",
   "language": "python",
   "name": "python3"
  },
  "language_info": {
   "codemirror_mode": {
    "name": "ipython",
    "version": 3
   },
   "file_extension": ".py",
   "mimetype": "text/x-python",
   "name": "python",
   "nbconvert_exporter": "python",
   "pygments_lexer": "ipython3",
   "version": "3.12.8"
  }
 },
 "nbformat": 4,
 "nbformat_minor": 2
}
